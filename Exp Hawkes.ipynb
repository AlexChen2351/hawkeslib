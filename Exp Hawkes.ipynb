{
 "cells": [
  {
   "cell_type": "markdown",
   "metadata": {},
   "source": [
    "### Exponential Kernel Hawkes Process\n",
    "\n",
    "The kernel function for a univariate Hawkes process is assumed to be:\n",
    "\n",
    "$$\n",
    "\\varphi(x) = \\beta \\exp(-\\beta x)\n",
    "$$\n",
    "\n",
    "For a multivariate hawkes process with exponential kernels, will take the intensity function of the point process to be:\n",
    "\n",
    "$$\n",
    "\\lambda^{(i)}(t) = \\lambda_0^{(i)} + \\sum_j \\phi_{ij} \\int_0^t  \\beta_j \\exp(-\\beta_j s) dN^{(j)}_s\n",
    "$$\n",
    "\n",
    "or in more familiar sum notation\n",
    "\n",
    "\n",
    "$$\n",
    "\\lambda^{(i)}(t) = \\lambda_0^{(i)} + \\sum_j \\phi_{ji} \\sum_k  \\beta_{i} \\exp(-\\beta_{i} (t_i - t_k)) \n",
    "$$"
   ]
  },
  {
   "cell_type": "markdown",
   "metadata": {},
   "source": [
    "Take the univariate case with intensity function\n",
    "\n",
    "$$\n",
    "\\lambda(t) = \\lambda + \\sum_{k=0}^{N_t} \\alpha \\exp(- \\beta (t - t_k))\n",
    "$$\n",
    "\n",
    "TERM 2 of the log-likelihood becomes:\n",
    "$$\n",
    "\\sum_i \\log ( \\lambda + \\alpha \\sum_{k=0}^{i} \\exp(-\\beta (t_i - t_k)) )\n",
    "$$ \n",
    "\n",
    "which, through the memoryless property of exponential distributions.. we can write the recursion:\n",
    "\n",
    "$$\n",
    "\\begin{align}\n",
    "B(i) &= \\sum_{k=0}^{i-1} \\exp(-\\beta (t_i - t_k)) \\\\\n",
    "     &= \\sum_{k=0}^{i-1} \\exp(-\\beta (t_i - t_{i-1})) \\exp(-\\beta(t_{i-1} - t_k)) \\\\\n",
    "     &= \\exp(-\\beta (t_i - t_{i-1})) \\sum_{k=0}^{i-1}  \\exp(-\\beta(t_{i-1} - t_k)) \\\\\n",
    "     &= \\exp(-\\beta (t_i - t_{i-1})) \\left[ \\exp(-\\beta(t_{i-1} - t_{i-1})) + \\sum_{k=0}^{i-2}  \\exp(-\\beta(t_{i-1} - t_k)) \\right] \\\\\n",
    "     &= \\exp(-\\beta (t_i - t_{i-1})) \\left[ 1 + B(i-1) \\right]\n",
    "\\end{align}\n",
    "$$\n",
    "\n",
    "where by definition $B(1) = 0$.\n",
    "\n",
    "Finally TERM 2 of log likelihood can be given by:\n",
    "\n",
    "$$\n",
    "\\sum_i \\log ( \\lambda + \\alpha B(i) )\n",
    "$$ "
   ]
  },
  {
   "cell_type": "markdown",
   "metadata": {},
   "source": [
    "Below we first implement a sampler for the univariate Hawkes process. Then, we solve for maximum likelihood parameters implementing the log-likelihood function mentioned above and using a numerical solver."
   ]
  },
  {
   "cell_type": "code",
   "execution_count": 7,
   "metadata": {
    "collapsed": true
   },
   "outputs": [],
   "source": [
    "%matplotlib inline\n",
    "import numpy as np\n",
    "import scipy as sp\n",
    "from matplotlib import pyplot as plt"
   ]
  },
  {
   "cell_type": "code",
   "execution_count": 8,
   "metadata": {
    "collapsed": true
   },
   "outputs": [],
   "source": [
    "def hawkes_draw(T, mu, alpha, beta):\n",
    "    \"\"\"\n",
    "    Draw from a univariate Hawkes process with\n",
    "    exponential  kernel $-\\alpha * \\exp(-\\beta * (t - t'))$\n",
    "    \"\"\"\n",
    "    assert alpha < beta, \"Not stationary!\"\n",
    "    assert np.min([mu, alpha, beta]) > 0, \"Parameters cannot be zero!\"\n",
    "\n",
    "    arr = []\n",
    "    s, n = 0, 0\n",
    "\n",
    "    while s < T:\n",
    "        lda_bar = mu + np.sum(alpha * np.exp(- beta * (s - np.array(arr))))\n",
    "\n",
    "        u = np.random.rand()\n",
    "        w = - np.log(u) / lda_bar\n",
    "        s += w\n",
    "\n",
    "        D = np.random.rand()\n",
    "        if D * lda_bar <= mu + np.sum(alpha * np.exp(- beta * (s - np.array(arr)))):\n",
    "            n += 1\n",
    "            arr.append(s)\n",
    "\n",
    "    if arr[-1] > T:\n",
    "        arr = arr[:-1]\n",
    "        \n",
    "    return arr"
   ]
  },
  {
   "cell_type": "code",
   "execution_count": 32,
   "metadata": {},
   "outputs": [],
   "source": [
    "def _hawkes_exp_ll(ser, lda0, alpha, beta):\n",
    "    \n",
    "    d = np.diff(ser)\n",
    "    exp_diff = np.exp(-beta * d)\n",
    "    T = ser[-1]\n",
    "    B = np.zeros(len(ser))\n",
    "\n",
    "    for i, _d in enumerate(exp_diff):\n",
    "        B[i+1] = (1 + B[i]) * _d\n",
    "    #     term2 += np.log(lda + alpha * B[])\n",
    "\n",
    "    return np.sum(np.log(lda0 + alpha * B)) - np.sum(1 - np.exp(-beta * (T - ser))) * alpha / beta - lda0 * T"
   ]
  },
  {
   "cell_type": "code",
   "execution_count": 37,
   "metadata": {},
   "outputs": [
    {
     "data": {
      "text/plain": [
       "[<matplotlib.lines.Line2D at 0x7f4df1932d10>]"
      ]
     },
     "execution_count": 37,
     "metadata": {},
     "output_type": "execute_result"
    },
    {
     "data": {
      "image/png": "[encoded data removed]",
      "text/plain": [
       "<matplotlib.figure.Figure at 0x7f4df1aa3b10>"
      ]
     },
     "metadata": {},
     "output_type": "display_data"
    }
   ],
   "source": [
    "arr = hawkes_draw(100000, .1, .3, .5)\n",
    "\n",
    "plt.figure(figsize=(20,5))\n",
    "plt.plot(np.array(arr), np.ones(len(arr)), 'k.')"
   ]
  },
  {
   "cell_type": "code",
   "execution_count": 34,
   "metadata": {},
   "outputs": [
    {
     "data": {
      "text/plain": [
       "-15889327784.680714"
      ]
     },
     "execution_count": 34,
     "metadata": {},
     "output_type": "execute_result"
    }
   ],
   "source": [
    "##_hawkes_exp_ll(arr, 1.6e7, 0, 1)\n"
   ]
  },
  {
   "cell_type": "code",
   "execution_count": 38,
   "metadata": {},
   "outputs": [
    {
     "name": "stderr",
     "output_type": "stream",
     "text": [
      "/home/caner/anaconda2/lib/python2.7/site-packages/ipykernel_launcher.py:12: RuntimeWarning: divide by zero encountered in log\n",
      "  if sys.path[0] == '':\n"
     ]
    }
   ],
   "source": [
    "from scipy.optimize import minimize\n",
    "minres = minimize(lambda x: -_hawkes_exp_ll(arr, x[0], x[1], x[2]),\n",
    "                     x0=np.array([5, .2, .3]),\n",
    "                     bounds=[(0, None), (0, 1), (0, 1)],\n",
    "                     method=\"L-BFGS-B\")"
   ]
  },
  {
   "cell_type": "code",
   "execution_count": 39,
   "metadata": {},
   "outputs": [
    {
     "data": {
      "text/plain": [
       "      fun: 93313.868514818081\n",
       " hess_inv: <3x3 LbfgsInvHessProduct with dtype=float64>\n",
       "      jac: array([ 73127.5533326 ,   8985.39292393,   -457.05965022])\n",
       "  message: 'CONVERGENCE: REL_REDUCTION_OF_F_<=_FACTR*EPSMCH'\n",
       "     nfev: 28\n",
       "      nit: 2\n",
       "   status: 0\n",
       "  success: True\n",
       "        x: array([ 0.90518845,  0.03620754,  0.87327362])"
      ]
     },
     "execution_count": 39,
     "metadata": {},
     "output_type": "execute_result"
    }
   ],
   "source": [
    "minres"
   ]
  }
 ],
 "metadata": {
  "kernelspec": {
   "display_name": "Python 2",
   "language": "python",
   "name": "python2"
  },
  "language_info": {
   "codemirror_mode": {
    "name": "ipython",
    "version": 2
   },
   "file_extension": ".py",
   "mimetype": "text/x-python",
   "name": "python",
   "nbconvert_exporter": "python",
   "pygments_lexer": "ipython2",
   "version": "2.7.13"
  }
 },
 "nbformat": 4,
 "nbformat_minor": 2
}
