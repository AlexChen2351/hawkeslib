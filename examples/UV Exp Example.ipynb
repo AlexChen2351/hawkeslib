{
 "cells": [
  {
   "cell_type": "markdown",
   "metadata": {},
   "source": [
    "# Univariate HP with Exponential Decay\n",
    "\n",
    "In this notebook, we present an example use case of fitting (calibrating) and sampling from a univariate Hawkes (self-exciting) process with exponential delay density. Concretely, the HP is determined by the conditional intensity function\n",
    "\n",
    "$$\n",
    "\\begin{align}\n",
    "\\lambda^*(t) &= \\mu + \\alpha \\sum_{t_j < t} g_\\theta(t - t_j) \\\\\n",
    "g_\\theta(x) &= -\\theta \\exp (-\\theta x )\n",
    "\\end{align}\n",
    "$$"
   ]
  },
  {
   "cell_type": "code",
   "execution_count": 1,
   "metadata": {},
   "outputs": [],
   "source": [
    "import sys\n",
    "\n",
    "sys.path.append(\"/home/caner/code/hawkes_bound/\")"
   ]
  },
  {
   "cell_type": "code",
   "execution_count": 2,
   "metadata": {},
   "outputs": [],
   "source": [
    "%matplotlib inline\n",
    "import numpy as np\n",
    "import pandas as pd\n",
    "from matplotlib import pyplot as plt\n",
    "from fasthawkes.model.uv_exp import UnivariateExpHawkesProcess as UVHP"
   ]
  },
  {
   "cell_type": "markdown",
   "metadata": {},
   "source": [
    "## Example 1: FX Price Jump Data\n",
    "\n",
    "Fit to real data and get Monte Carlo estimates of the distribution of number of occurrences via Ogata's modified thinning method."
   ]
  },
  {
   "cell_type": "code",
   "execution_count": 3,
   "metadata": {},
   "outputs": [],
   "source": [
    "df = pd.read_csv(\"example_data.csv\", header=None)\n",
    "df.columns = [\"mark\", \"time\"]"
   ]
  },
  {
   "cell_type": "code",
   "execution_count": 4,
   "metadata": {},
   "outputs": [
    {
     "data": {
      "text/plain": [
       "-58566.648221072"
      ]
     },
     "execution_count": 4,
     "metadata": {},
     "output_type": "execute_result"
    }
   ],
   "source": [
    "# take all mark 21 and fit a univariate exp HP\n",
    "td = np.array(df.loc[df.mark == 21, :].get(\"time\")).astype(np.float64)\n",
    "\n",
    "proc = UVHP()\n",
    "proc.fit(td, method=\"em\")"
   ]
  },
  {
   "cell_type": "code",
   "execution_count": 5,
   "metadata": {},
   "outputs": [
    {
     "name": "stdout",
     "output_type": "stream",
     "text": [
      "8005.413329839444\n",
      "8003\n"
     ]
    }
   ],
   "source": [
    "# verify that the unconditional mean makes sense\n",
    "mu, alpha, theta = proc.get_params()\n",
    "\n",
    "N_approx = mu * td[-1] / (1 - alpha)\n",
    "\n",
    "print(N_approx)\n",
    "print(len(td))"
   ]
  },
  {
   "cell_type": "code",
   "execution_count": 6,
   "metadata": {},
   "outputs": [
    {
     "name": "stdout",
     "output_type": "stream",
     "text": [
      "CPU times: user 9.64 s, sys: 97.4 ms, total: 9.74 s\n",
      "Wall time: 2.54 s\n"
     ]
    }
   ],
   "source": [
    "%%time\n",
    "# take unconditioned samples from this HP, and estimate the distribution of \n",
    "# number of occurrences in a ten second period\n",
    "\n",
    "counts = []\n",
    "for j in range(100000):\n",
    "    n = len(proc.sample(T=10000))  # time in millis\n",
    "    counts.append(n)"
   ]
  },
  {
   "cell_type": "code",
   "execution_count": 7,
   "metadata": {},
   "outputs": [
    {
     "data": {
      "image/png": "[encoded data removed]",
      "text/plain": [
       "<matplotlib.figure.Figure at 0x7f9db40e6710>"
      ]
     },
     "metadata": {},
     "output_type": "display_data"
    }
   ],
   "source": [
    "plt.title(\"Number of Occurrences in 10secs\")\n",
    "plt.hist(counts, bins=30)\n",
    "plt.show()"
   ]
  },
  {
   "cell_type": "markdown",
   "metadata": {},
   "source": [
    "## Example 2: Simulated Data\n",
    "\n",
    "We simulate HPs and try to fit their parameters."
   ]
  },
  {
   "cell_type": "code",
   "execution_count": 3,
   "metadata": {},
   "outputs": [
    {
     "name": "stdout",
     "output_type": "stream",
     "text": [
      "['2.2883', '0.0599', '3.0312', '2.2843', '0.0613', '2.9789', '2.2439', '0.0779', '1.8665']\n",
      "['2.0299', '0.1767', '6.3121', '2.0446', '0.1723', '6.3315', '2.0418', '0.1734', '6.2556']\n",
      "['6.0940', '0.2380', '2.6440', '6.1106', '0.2344', '2.5964', '5.9028', '0.2605', '2.1308']\n",
      "['6.4008', '0.1533', '4.6891', '6.3938', '0.1548', '4.6746', '6.2453', '0.1745', '3.7427']\n",
      "['4.3933', '0.1155', '3.5713', '4.4018', '0.1161', '3.5383', '4.3125', '0.1341', '2.7069']\n"
     ]
    },
    {
     "ename": "KeyboardInterrupt",
     "evalue": "",
     "output_type": "error",
     "traceback": [
      "\u001b[0;31m---------------------------------------------------------------------------\u001b[0m",
      "\u001b[0;31mKeyboardInterrupt\u001b[0m                         Traceback (most recent call last)",
      "\u001b[0;32m<ipython-input-3-b8814d20e4ca>\u001b[0m in \u001b[0;36m<module>\u001b[0;34m()\u001b[0m\n\u001b[1;32m     14\u001b[0m     \u001b[0;31m# fit with em\u001b[0m\u001b[0;34m\u001b[0m\u001b[0;34m\u001b[0m\u001b[0m\n\u001b[1;32m     15\u001b[0m     \u001b[0mhp3\u001b[0m \u001b[0;34m=\u001b[0m \u001b[0mUVHP\u001b[0m\u001b[0;34m(\u001b[0m\u001b[0;34m)\u001b[0m\u001b[0;34m\u001b[0m\u001b[0m\n\u001b[0;32m---> 16\u001b[0;31m     \u001b[0mhp3\u001b[0m\u001b[0;34m.\u001b[0m\u001b[0mfit\u001b[0m\u001b[0;34m(\u001b[0m\u001b[0msmp\u001b[0m\u001b[0;34m,\u001b[0m \u001b[0mmethod\u001b[0m\u001b[0;34m=\u001b[0m\u001b[0;34m\"em\"\u001b[0m\u001b[0;34m,\u001b[0m \u001b[0mreltol\u001b[0m\u001b[0;34m=\u001b[0m\u001b[0;36m1e-6\u001b[0m\u001b[0;34m)\u001b[0m\u001b[0;34m\u001b[0m\u001b[0m\n\u001b[0m\u001b[1;32m     17\u001b[0m \u001b[0;34m\u001b[0m\u001b[0m\n\u001b[1;32m     18\u001b[0m     \u001b[0mcomb_pars\u001b[0m \u001b[0;34m=\u001b[0m \u001b[0mhp\u001b[0m\u001b[0;34m.\u001b[0m\u001b[0mget_params\u001b[0m\u001b[0;34m(\u001b[0m\u001b[0;34m)\u001b[0m \u001b[0;34m+\u001b[0m \u001b[0mhp2\u001b[0m\u001b[0;34m.\u001b[0m\u001b[0mget_params\u001b[0m\u001b[0;34m(\u001b[0m\u001b[0;34m)\u001b[0m \u001b[0;34m+\u001b[0m \u001b[0mhp3\u001b[0m\u001b[0;34m.\u001b[0m\u001b[0mget_params\u001b[0m\u001b[0;34m(\u001b[0m\u001b[0;34m)\u001b[0m\u001b[0;34m\u001b[0m\u001b[0m\n",
      "\u001b[0;32m/home/caner/code/hawkes_bound/fasthawkes/model/uv_exp.pyc\u001b[0m in \u001b[0;36mfit\u001b[0;34m(self, t, T, method, **kwargs)\u001b[0m\n\u001b[1;32m    148\u001b[0m             \u001b[0memkwargs\u001b[0m \u001b[0;34m=\u001b[0m \u001b[0;34m{\u001b[0m\u001b[0mk\u001b[0m\u001b[0;34m:\u001b[0m \u001b[0mv\u001b[0m \u001b[0;32mfor\u001b[0m \u001b[0mk\u001b[0m\u001b[0;34m,\u001b[0m \u001b[0mv\u001b[0m \u001b[0;32min\u001b[0m \u001b[0mkwargs\u001b[0m\u001b[0;34m.\u001b[0m\u001b[0mitems\u001b[0m\u001b[0;34m(\u001b[0m\u001b[0;34m)\u001b[0m \u001b[0;32mif\u001b[0m \u001b[0mk\u001b[0m \u001b[0;32min\u001b[0m \u001b[0;34m[\u001b[0m\u001b[0;34m\"maxiter\"\u001b[0m\u001b[0;34m,\u001b[0m \u001b[0;34m\"reltol\"\u001b[0m\u001b[0;34m]\u001b[0m\u001b[0;34m}\u001b[0m\u001b[0;34m\u001b[0m\u001b[0m\n\u001b[1;32m    149\u001b[0m \u001b[0;34m\u001b[0m\u001b[0m\n\u001b[0;32m--> 150\u001b[0;31m             \u001b[0mll\u001b[0m\u001b[0;34m,\u001b[0m \u001b[0mparams\u001b[0m\u001b[0;34m,\u001b[0m \u001b[0m_\u001b[0m \u001b[0;34m=\u001b[0m \u001b[0muv_exp_fit_em_base\u001b[0m\u001b[0;34m(\u001b[0m\u001b[0mt\u001b[0m\u001b[0;34m,\u001b[0m \u001b[0mT\u001b[0m\u001b[0;34m,\u001b[0m \u001b[0;34m**\u001b[0m\u001b[0memkwargs\u001b[0m\u001b[0;34m)\u001b[0m\u001b[0;34m\u001b[0m\u001b[0m\n\u001b[0m\u001b[1;32m    151\u001b[0m \u001b[0;34m\u001b[0m\u001b[0m\n\u001b[1;32m    152\u001b[0m         \u001b[0;32melif\u001b[0m \u001b[0mmethod\u001b[0m \u001b[0;34m==\u001b[0m \u001b[0;34m\"gd\"\u001b[0m\u001b[0;34m:\u001b[0m  \u001b[0;31m# gradient descent\u001b[0m\u001b[0;34m\u001b[0m\u001b[0m\n",
      "\u001b[0;31mKeyboardInterrupt\u001b[0m: "
     ]
    }
   ],
   "source": [
    "param_pairs = []\n",
    "for j in range(100):\n",
    "    # priors\n",
    "    pars = np.random.gamma(3.), np.random.rand() * .3, np.random.gamma(5.)\n",
    "#     print j\n",
    "    hp = UVHP()\n",
    "    hp.set_params(*pars)\n",
    "    smp = hp.sample(100000,method=\"branching\")\n",
    "    \n",
    "    # fit with gd\n",
    "    hp2 = UVHP()\n",
    "    hp2.fit(smp, method=\"gd\")\n",
    "    \n",
    "    # fit with em\n",
    "    hp3 = UVHP()\n",
    "    hp3.fit(smp, method=\"em\", reltol=1e-6)\n",
    "    \n",
    "    comb_pars = hp.get_params() + hp2.get_params() + hp3.get_params()\n",
    "    param_pairs.append(comb_pars)\n",
    "#     print param_pairs\n",
    "    print [\"%0.4f\" % i for i in comb_pars]"
   ]
  },
  {
   "cell_type": "code",
   "execution_count": 11,
   "metadata": {},
   "outputs": [
    {
     "data": {
      "text/plain": [
       "[]"
      ]
     },
     "execution_count": 11,
     "metadata": {},
     "output_type": "execute_result"
    },
    {
     "data": {
      "image/png": "[encoded data removed]",
      "text/plain": [
       "<matplotlib.figure.Figure at 0x7fe634673e50>"
      ]
     },
     "metadata": {},
     "output_type": "display_data"
    }
   ],
   "source": [
    "Z = np.array(param_pairs)\n",
    "\n",
    "f, ax = plt.subplots(1, 3, figsize=(15,5))\n",
    "f.suptitle(\"Fitted vs Actual Parameters\")\n",
    "for k in range(3):\n",
    "    ax[k].plot(Z[:, k], Z[:, k+3], \"k.\")\n",
    "    ax[k].set_title([\"mu\", \"alpha\", \"theta\"][k])\n",
    "\n",
    "ax[2].loglog()\n"
   ]
  },
  {
   "cell_type": "code",
   "execution_count": 44,
   "metadata": {},
   "outputs": [
    {
     "name": "stdout",
     "output_type": "stream",
     "text": [
      "           0         1           2          3         4           5\n",
      "31  3.689706  0.230092  368.904952  40.976832  0.357055  263.923984\n"
     ]
    }
   ],
   "source": [
    "# check the outlier\n",
    "\n",
    "df_pars = pd.DataFrame(Z)\n",
    "\n",
    "print df_pars[df_pars[3] > 30]  # very high theta!"
   ]
  }
 ],
 "metadata": {
  "kernelspec": {
   "display_name": "Python 2",
   "language": "python",
   "name": "python2"
  },
  "language_info": {
   "codemirror_mode": {
    "name": "ipython",
    "version": 2
   },
   "file_extension": ".py",
   "mimetype": "text/x-python",
   "name": "python",
   "nbconvert_exporter": "python",
   "pygments_lexer": "ipython2",
   "version": "2.7.14"
  }
 },
 "nbformat": 4,
 "nbformat_minor": 2
}
