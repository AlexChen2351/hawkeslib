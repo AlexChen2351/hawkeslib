{
 "cells": [
  {
   "cell_type": "markdown",
   "metadata": {},
   "source": [
    "# Univariate HP with Exponential Decay\n",
    "\n",
    "In this notebook, we present an example use case of fitting (calibrating) and sampling from a univariate Hawkes (self-exciting) process with exponential delay density. Concretely, the HP is determined by the conditional intensity function\n",
    "\n",
    "$$\n",
    "\\begin{align}\n",
    "\\lambda^*(t) &= \\mu + \\alpha \\sum_{t_j < t} g_\\theta(t - t_j) \\\\\n",
    "g_\\theta(x) &= -\\theta \\exp (-\\theta x )\n",
    "\\end{align}\n",
    "$$"
   ]
  },
  {
   "cell_type": "code",
   "execution_count": 1,
   "metadata": {},
   "outputs": [],
   "source": [
    "import sys\n",
    "\n",
    "sys.path.append(\"/home/caner/code/hawkes_bound/\")"
   ]
  },
  {
   "cell_type": "code",
   "execution_count": 2,
   "metadata": {},
   "outputs": [],
   "source": [
    "%matplotlib inline\n",
    "import numpy as np\n",
    "import pandas as pd\n",
    "from matplotlib import pyplot as plt\n",
    "from fasthawkes.model.uv_exp import UnivariateExpHawkesProcess as UVHP"
   ]
  },
  {
   "cell_type": "markdown",
   "metadata": {},
   "source": [
    "## Example 1: FX Price Jump Data\n",
    "\n",
    "Fit to real data and get Monte Carlo estimates of the distribution of number of occurrences via Ogata's modified thinning method."
   ]
  },
  {
   "cell_type": "code",
   "execution_count": 3,
   "metadata": {},
   "outputs": [],
   "source": [
    "df = pd.read_csv(\"example_data.csv\", header=None)\n",
    "df.columns = [\"mark\", \"time\"]"
   ]
  },
  {
   "cell_type": "code",
   "execution_count": 4,
   "metadata": {},
   "outputs": [
    {
     "data": {
      "text/plain": [
       "-58566.648221072"
      ]
     },
     "execution_count": 4,
     "metadata": {},
     "output_type": "execute_result"
    }
   ],
   "source": [
    "# take all mark 21 and fit a univariate exp HP\n",
    "td = np.array(df.loc[df.mark == 21, :].get(\"time\")).astype(np.float64)\n",
    "\n",
    "proc = UVHP()\n",
    "proc.fit(td, method=\"em\")"
   ]
  },
  {
   "cell_type": "code",
   "execution_count": 5,
   "metadata": {},
   "outputs": [
    {
     "name": "stdout",
     "output_type": "stream",
     "text": [
      "8005.413329839444\n",
      "8003\n"
     ]
    }
   ],
   "source": [
    "# verify that the unconditional mean makes sense\n",
    "mu, alpha, theta = proc.get_params()\n",
    "\n",
    "N_approx = mu * td[-1] / (1 - alpha)\n",
    "\n",
    "print(N_approx)\n",
    "print(len(td))"
   ]
  },
  {
   "cell_type": "code",
   "execution_count": 6,
   "metadata": {},
   "outputs": [
    {
     "name": "stdout",
     "output_type": "stream",
     "text": [
      "CPU times: user 9.64 s, sys: 97.4 ms, total: 9.74 s\n",
      "Wall time: 2.54 s\n"
     ]
    }
   ],
   "source": [
    "%%time\n",
    "# take unconditioned samples from this HP, and estimate the distribution of \n",
    "# number of occurrences in a ten second period\n",
    "\n",
    "counts = []\n",
    "for j in range(100000):\n",
    "    n = len(proc.sample(T=10000))  # time in millis\n",
    "    counts.append(n)"
   ]
  },
  {
   "cell_type": "code",
   "execution_count": 7,
   "metadata": {},
   "outputs": [
    {
     "data": {
      "image/png": "[encoded data removed]",
      "text/plain": [
       "<matplotlib.figure.Figure at 0x7f9db40e6710>"
      ]
     },
     "metadata": {},
     "output_type": "display_data"
    }
   ],
   "source": [
    "plt.title(\"Number of Occurrences in 10secs\")\n",
    "plt.hist(counts, bins=30)\n",
    "plt.show()"
   ]
  },
  {
   "cell_type": "markdown",
   "metadata": {},
   "source": [
    "## Example 2: Simulated Data\n",
    "\n",
    "We simulate HPs and try to fit their parameters."
   ]
  },
  {
   "cell_type": "code",
   "execution_count": 3,
   "metadata": {},
   "outputs": [
    {
     "name": "stdout",
     "output_type": "stream",
     "text": [
      "['1.8645', '0.1990', '2.0969', '1.8594', '0.2004', '2.0542', '1.8585', '0.2008', '2.0470']\n",
      "['3.2940', '0.1704', '2.7362', '3.2865', '0.1714', '2.6716', '3.2802', '0.1730', '2.6277']\n",
      "['5.6339', '0.1035', '8.4447', '5.6147', '0.1071', '8.3124', '5.5163', '0.1228', '6.4613']\n",
      "['2.5448', '0.1503', '6.5508', '2.5429', '0.1489', '6.6262', '2.5424', '0.1490', '6.6125']\n",
      "['4.0137', '0.0097', '3.6862', '4.0520', '0.0000', '0.0037', '3.7862', '0.0656', '0.2048']\n",
      "['2.1171', '0.2525', '3.4662', '2.1244', '0.2452', '3.6170', '2.1240', '0.2453', '3.6131']\n",
      "['2.4068', '0.1990', '8.8620', '2.4102', '0.1995', '8.9486', '2.4099', '0.1996', '8.9391']\n",
      "['5.5312', '0.2255', '6.6822', '5.4924', '0.2292', '6.6120', '5.4860', '0.2301', '6.5649']\n",
      "['1.8536', '0.1756', '2.9556', '1.8537', '0.1790', '3.0153', '1.8530', '0.1793', '3.0060']\n",
      "['3.3215', '0.2133', '3.5869', '3.3333', '0.2127', '3.6489', '3.3304', '0.2134', '3.6284']\n",
      "['2.5943', '0.0792', '3.2470', '2.5862', '0.0832', '3.3586', '2.5654', '0.0905', '2.8866']\n",
      "['3.7291', '0.2971', '2.8044', '3.7470', '0.2923', '2.8576', '3.7418', '0.2933', '2.8400']\n",
      "['1.6677', '0.1886', '4.8712', '1.6706', '0.1879', '4.8368', '1.6702', '0.1881', '4.8275']\n",
      "['5.4537', '0.2712', '3.6501', '5.4501', '0.2703', '3.6441', '5.4390', '0.2718', '3.6078']\n",
      "['3.0252', '0.2731', '1.3616', '3.0273', '0.2730', '1.3577', '3.0216', '0.2744', '1.3458']\n",
      "['3.9620', '0.2995', '5.1901', '3.9804', '0.2976', '5.2410', '3.9770', '0.2982', '5.2208']\n",
      "['5.8181', '0.0725', '3.4633', '5.8152', '0.0743', '3.5300', '5.4747', '0.1285', '0.7707']\n",
      "['2.9818', '0.2461', '4.1910', '2.9969', '0.2443', '4.2822', '2.9951', '0.2447', '4.2675']\n",
      "['3.3434', '0.1421', '8.0152', '3.3262', '0.1452', '8.0616', '3.3249', '0.1456', '8.0286']\n",
      "['4.1311', '0.0726', '7.3415', '4.1205', '0.0728', '7.6983', '3.9755', '0.1054', '3.3214']\n",
      "['0.6602', '0.2259', '5.2778', '0.6615', '0.2219', '5.5119', '0.6614', '0.2220', '5.5049']\n",
      "['2.6440', '0.1472', '6.2605', '2.6324', '0.1502', '6.2930', '2.6318', '0.1504', '6.2777']\n",
      "['1.0519', '0.2500', '10.8562', '1.0482', '0.2537', '10.7059', '1.0481', '0.2538', '10.6996']\n",
      "['1.7311', '0.2673', '5.6573', '1.7339', '0.2691', '5.6269', '1.7337', '0.2692', '5.6234']\n",
      "['1.6111', '0.0103', '4.2676', '1.5408', '0.0530', '0.0040', '1.5583', '0.0422', '0.1945']\n",
      "['2.4567', '0.2097', '3.8751', '2.4663', '0.2055', '3.9268', '2.4655', '0.2058', '3.9173']\n",
      "['0.9426', '0.1719', '4.9208', '0.9429', '0.1738', '4.8438', '0.9427', '0.1741', '4.8321']\n",
      "['1.6829', '0.2918', '3.7712', '1.6908', '0.2876', '3.8518', '1.6905', '0.2877', '3.8485']\n",
      "['0.4946', '0.2989', '8.7033', '0.4970', '0.2964', '8.7342', '0.4969', '0.2965', '8.7302']\n",
      "['2.4033', '0.1901', '8.8895', '2.4112', '0.1897', '9.0101', '2.4109', '0.1898', '9.0005']\n",
      "['6.5240', '0.0722', '7.6657', '6.5371', '0.0724', '7.9886', '6.1079', '0.1333', '0.9498']\n",
      "['1.6412', '0.0888', '4.4478', '1.6353', '0.0905', '4.6326', '1.6346', '0.0909', '4.5995']\n",
      "['1.9639', '0.2835', '6.3890', '1.9713', '0.2820', '6.3418', '1.9711', '0.2821', '6.3386']\n",
      "['1.4735', '0.1276', '10.1582', '1.4767', '0.1264', '10.2683', '1.4765', '0.1265', '10.2474']\n",
      "['2.7436', '0.1995', '4.3719', '2.7527', '0.1985', '4.3724', '2.7515', '0.1989', '4.3580']\n",
      "['5.3575', '0.1108', '2.2240', '5.3241', '0.1138', '2.0870', '5.0949', '0.1519', '1.1447']\n",
      "['6.2720', '0.2018', '7.4185', '6.2876', '0.2008', '7.4909', '6.2796', '0.2018', '7.4231']\n",
      "['6.0768', '0.1240', '4.9707', '6.0807', '0.1235', '5.0396', '5.9148', '0.1474', '3.5901']\n",
      "['1.0020', '0.1718', '3.2231', '0.9920', '0.1783', '3.2034', '0.9916', '0.1787', '3.1923']\n",
      "['1.9667', '0.2363', '4.9223', '1.9737', '0.2348', '4.9702', '1.9736', '0.2348', '4.9681']\n",
      "['4.5730', '0.1749', '5.3393', '4.5641', '0.1745', '5.5011', '4.5593', '0.1754', '5.4534']\n",
      "['1.9959', '0.2598', '5.9953', '1.9905', '0.2616', '5.8984', '1.9903', '0.2616', '5.8959']\n",
      "['2.1760', '0.2900', '3.7110', '2.1854', '0.2880', '3.7786', '2.1848', '0.2882', '3.7735']\n",
      "['1.1017', '0.2942', '3.4274', '1.1016', '0.2953', '3.4183', '1.1013', '0.2955', '3.4133']\n",
      "['9.4485', '0.2118', '5.2757', '9.4381', '0.2124', '5.3460', '9.3061', '0.2234', '4.8745']\n",
      "['1.0324', '0.0285', '2.4228', '1.0325', '0.0317', '2.1290', '1.0156', '0.0476', '0.8003']\n",
      "['1.8397', '0.1733', '3.8450', '1.8417', '0.1705', '3.9450', '1.8411', '0.1707', '3.9344']\n",
      "['3.3389', '0.2717', '10.5306', '3.3273', '0.2723', '10.4525', '3.3263', '0.2725', '10.4355']\n",
      "['1.8382', '0.0774', '3.0458', '1.8345', '0.0789', '2.8767', '1.8279', '0.0822', '2.6773']\n",
      "['3.3742', '0.2236', '4.9531', '3.3963', '0.2201', '5.0553', '3.3941', '0.2206', '5.0338']\n",
      "['6.6382', '0.1250', '4.6447', '6.6184', '0.1265', '4.6780', '6.3925', '0.1563', '3.0887']\n",
      "['5.7646', '0.1380', '4.2731', '5.7566', '0.1385', '4.3565', '5.6567', '0.1534', '3.6122']\n",
      "['4.2455', '0.0787', '3.4281', '4.2435', '0.0826', '3.3914', '4.0453', '0.1255', '1.2823']\n",
      "['0.5386', '0.1116', '4.4724', '0.5415', '0.1085', '4.5275', '0.5413', '0.1087', '4.5086']\n",
      "['5.9141', '0.0561', '6.4084', '5.9149', '0.0561', '6.7463', '5.5567', '0.1133', '0.5646']\n",
      "['2.8888', '0.0582', '12.4369', '2.8895', '0.0577', '12.6336', '2.8539', '0.0693', '8.8744']\n",
      "['2.5457', '0.1403', '4.8372', '2.5551', '0.1393', '4.8611', '2.5544', '0.1396', '4.8468']\n",
      "['1.6397', '0.1805', '6.0305', '1.6354', '0.1788', '6.1465', '1.6351', '0.1790', '6.1353']\n",
      "['3.9736', '0.1402', '2.5985', '3.9710', '0.1382', '2.7202', '3.9285', '0.1474', '2.4255']\n",
      "['2.4433', '0.0646', '3.2459', '2.4338', '0.0684', '2.9500', '2.3876', '0.0861', '1.8864']\n",
      "['4.2525', '0.2689', '4.2096', '4.2691', '0.2670', '4.3141', '4.2641', '0.2679', '4.2885']\n",
      "['2.5769', '0.0592', '3.9036', '2.5736', '0.0582', '3.8601', '2.4909', '0.0884', '1.4951']\n",
      "['4.2579', '0.0291', '1.2153', '4.2244', '0.0349', '1.1709', '4.0172', '0.0822', '0.2925']\n",
      "['2.8960', '0.0964', '4.1862', '2.8943', '0.0945', '4.2809', '2.8834', '0.0979', '4.0262']\n",
      "['3.3799', '0.1121', '3.3709', '3.3700', '0.1132', '3.2565', '3.3442', '0.1200', '2.9412']\n",
      "['4.9823', '0.1720', '7.2420', '4.9628', '0.1739', '7.1326', '4.9581', '0.1747', '7.0767']\n",
      "['2.7319', '0.0739', '3.7953', '2.7288', '0.0740', '3.7198', '2.6821', '0.0898', '2.5674']\n",
      "['3.7609', '0.1190', '4.8925', '3.7708', '0.1190', '4.9252', '3.7597', '0.1216', '4.7435']\n",
      "['2.5448', '0.2442', '3.2692', '2.5521', '0.2416', '3.3654', '2.5509', '0.2420', '3.3560']\n",
      "['3.9505', '0.0650', '5.4907', '4.0495', '0.0447', '0.0002', '3.7876', '0.1046', '1.2989']\n",
      "['3.4071', '0.2026', '6.5878', '3.4200', '0.1987', '6.5389', '3.4183', '0.1991', '6.5151']\n",
      "['3.1095', '0.1427', '2.8126', '3.0998', '0.1451', '2.8058', '3.0945', '0.1465', '2.7577']\n",
      "['5.2782', '0.1790', '6.7928', '5.2904', '0.1785', '6.8005', '5.2846', '0.1794', '6.7392']\n",
      "['1.0216', '0.2541', '4.0751', '1.0150', '0.2569', '4.0351', '1.0148', '0.2571', '4.0286']\n",
      "['3.3587', '0.2859', '9.8576', '3.3587', '0.2850', '9.8901', '3.3575', '0.2853', '9.8725']\n",
      "['4.0665', '0.0787', '8.2972', '4.0736', '0.0786', '8.4611', '3.9489', '0.1068', '4.3799']\n",
      "['1.6018', '0.0913', '2.2084', '1.6020', '0.0908', '2.1373', '1.5988', '0.0926', '2.0646']\n",
      "['2.4069', '0.1278', '2.9628', '2.3906', '0.1340', '2.8459', '2.3895', '0.1344', '2.8312']\n",
      "['3.7831', '0.1186', '6.4247', '3.7793', '0.1214', '6.3793', '3.7767', '0.1221', '6.3243']\n",
      "['0.9589', '0.0473', '4.5618', '0.9545', '0.0464', '4.5720', '0.9540', '0.0469', '4.4841']\n",
      "['3.5713', '0.0553', '11.3125', '3.5888', '0.0520', '11.1010', '3.4110', '0.0990', '0.9949']\n",
      "['1.5921', '0.2153', '7.0542', '1.5951', '0.2141', '6.9784', '1.5949', '0.2142', '6.9703']\n",
      "['4.9109', '0.1453', '2.8008', '4.8958', '0.1472', '2.6587', '4.8155', '0.1612', '2.2600']\n",
      "['3.3327', '0.0181', '6.9861', '3.3257', '0.0198', '6.0377', '3.1613', '0.0683', '0.2379']\n",
      "['2.5405', '0.2992', '3.6265', '2.5237', '0.3047', '3.5903', '2.5224', '0.3051', '3.5821']\n",
      "['3.8464', '0.0535', '7.4334', '3.8593', '0.0508', '7.5967', '3.6601', '0.0998', '0.8019']\n",
      "['7.8176', '0.2004', '3.5221', '7.8618', '0.1969', '3.6043', '7.6786', '0.2156', '3.0410']\n",
      "['3.3702', '0.1994', '5.2071', '3.3638', '0.2006', '5.2535', '3.3617', '0.2011', '5.2303']\n",
      "['6.5316', '0.0623', '4.1935', '6.5207', '0.0625', '4.3536', '6.0899', '0.1244', '0.5489']\n",
      "['3.7322', '0.0977', '3.5405', '3.7351', '0.0960', '3.5638', '3.6579', '0.1147', '2.5414']\n",
      "['1.6284', '0.1319', '2.2777', '1.6324', '0.1296', '2.3180', '1.6313', '0.1302', '2.2995']\n",
      "['2.4067', '0.2260', '2.3405', '2.4137', '0.2235', '2.3667', '2.4125', '0.2239', '2.3589']\n",
      "['3.0069', '0.2301', '6.0231', '3.0027', '0.2303', '6.0348', '3.0014', '0.2307', '6.0188']\n",
      "['2.8316', '0.0352', '3.0022', '2.8421', '0.0320', '3.0476', '2.7308', '0.0699', '0.3583']\n",
      "['7.8927', '0.2119', '5.1436', '7.8768', '0.2146', '4.9778', '7.8318', '0.2191', '4.7963']\n",
      "['1.7551', '0.0056', '4.7138', '1.6325', '0.0714', '0.0065', '1.6923', '0.0372', '0.1692']\n",
      "['6.3216', '0.0084', '4.5161', '6.2621', '0.0178', '2.1631', '5.7745', '0.0943', '0.2397']\n",
      "['3.5496', '0.1815', '7.0236', '3.5473', '0.1827', '7.1128', '3.5454', '0.1831', '7.0832']\n",
      "['1.6040', '0.2050', '3.7111', '1.5971', '0.2092', '3.6673', '1.5966', '0.2095', '3.6591']\n",
      "['2.5314', '0.2254', '1.6302', '2.5531', '0.2229', '1.6208', '2.5507', '0.2237', '1.6110']\n"
     ]
    }
   ],
   "source": [
    "param_pairs = []\n",
    "for j in range(100):\n",
    "    # priors\n",
    "    pars = np.random.gamma(3.), np.random.rand() * .3, np.random.gamma(5.)\n",
    "#     print j\n",
    "    hp = UVHP()\n",
    "    hp.set_params(*pars)\n",
    "    smp = hp.sample(100000,method=\"branching\")\n",
    "    \n",
    "    # fit with gd\n",
    "    hp2 = UVHP()\n",
    "    hp2.fit(smp, method=\"gd\")\n",
    "    \n",
    "    # fit with em\n",
    "    hp3 = UVHP()\n",
    "    hp3.fit(smp, method=\"em\", reltol=1e-8)\n",
    "    \n",
    "    comb_pars = hp.get_params() + hp2.get_params() + hp3.get_params()\n",
    "    param_pairs.append(comb_pars)\n",
    "#     print param_pairs\n",
    "    print [\"%0.4f\" % i for i in comb_pars]"
   ]
  },
  {
   "cell_type": "code",
   "execution_count": 6,
   "metadata": {},
   "outputs": [
    {
     "data": {
      "image/png": "[encoded data removed]",
      "text/plain": [
       "<matplotlib.figure.Figure at 0x7ff2ae735cd0>"
      ]
     },
     "metadata": {},
     "output_type": "display_data"
    }
   ],
   "source": [
    "Z = np.array(param_pairs)\n",
    "\n",
    "f, ax = plt.subplots(1, 3, figsize=(15,5))\n",
    "f.suptitle(\"Fitted vs Actual Parameters\")\n",
    "for k in range(3):\n",
    "    ax[k].plot(Z[:, k], Z[:, k+6], \"k.\")\n",
    "    ax[k].set_title([\"mu\", \"alpha\", \"theta\"][k])\n",
    "\n",
    "# ax[2].loglog()\n"
   ]
  },
  {
   "cell_type": "code",
   "execution_count": 10,
   "metadata": {},
   "outputs": [
    {
     "data": {
      "text/plain": [
       "<matplotlib.collections.PathCollection at 0x7ff2abd411d0>"
      ]
     },
     "execution_count": 10,
     "metadata": {},
     "output_type": "execute_result"
    },
    {
     "data": {
      "image/png": "[encoded data removed]",
      "text/plain": [
       "<matplotlib.figure.Figure at 0x7ff2abde3b90>"
      ]
     },
     "metadata": {},
     "output_type": "display_data"
    }
   ],
   "source": [
    "plt.scatter(Z[:, 2], Z[:, 8], c=Z[:,1] < .15)"
   ]
  }
 ],
 "metadata": {
  "kernelspec": {
   "display_name": "Python 2",
   "language": "python",
   "name": "python2"
  },
  "language_info": {
   "codemirror_mode": {
    "name": "ipython",
    "version": 2
   },
   "file_extension": ".py",
   "mimetype": "text/x-python",
   "name": "python",
   "nbconvert_exporter": "python",
   "pygments_lexer": "ipython2",
   "version": "2.7.14"
  }
 },
 "nbformat": 4,
 "nbformat_minor": 2
}
