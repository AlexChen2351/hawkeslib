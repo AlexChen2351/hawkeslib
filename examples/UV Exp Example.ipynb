{
 "cells": [
  {
   "cell_type": "markdown",
   "metadata": {},
   "source": [
    "# Univariate HP with Exponential Decay\n",
    "\n",
    "In this notebook, we present an example use case of fitting (calibrating) and sampling from a univariate Hawkes (self-exciting) process with exponential delay density. Concretely, the HP is determined by the conditional intensity function\n",
    "\n",
    "$$\n",
    "\\begin{align}\n",
    "\\lambda^*(t) &= \\mu + \\alpha \\sum_{t_j < t} g_\\theta(t - t_j) \\\\\n",
    "g_\\theta(x) &= -\\theta \\exp (-\\theta x )\n",
    "\\end{align}\n",
    "$$"
   ]
  },
  {
   "cell_type": "code",
   "execution_count": 1,
   "metadata": {},
   "outputs": [],
   "source": [
    "import sys\n",
    "\n",
    "sys.path.append(\"/home/caner/code/hawkes_bound/\")"
   ]
  },
  {
   "cell_type": "code",
   "execution_count": 2,
   "metadata": {},
   "outputs": [],
   "source": [
    "%matplotlib inline\n",
    "import numpy as np\n",
    "import pandas as pd\n",
    "from matplotlib import pyplot as plt\n",
    "from fasthawkes.model.uv_exp import UnivariateExpHawkesProcess as UVHP"
   ]
  },
  {
   "cell_type": "markdown",
   "metadata": {},
   "source": [
    "## Example 1: FX Price Jump Data\n",
    "\n",
    "Fit to real data and get Monte Carlo estimates of the distribution of number of occurrences via Ogata's modified thinning method."
   ]
  },
  {
   "cell_type": "code",
   "execution_count": 3,
   "metadata": {},
   "outputs": [
    {
     "data": {
      "text/html": [
       "<div>\n",
       "<style scoped>\n",
       "    .dataframe tbody tr th:only-of-type {\n",
       "        vertical-align: middle;\n",
       "    }\n",
       "\n",
       "    .dataframe tbody tr th {\n",
       "        vertical-align: top;\n",
       "    }\n",
       "\n",
       "    .dataframe thead th {\n",
       "        text-align: right;\n",
       "    }\n",
       "</style>\n",
       "<table border=\"1\" class=\"dataframe\">\n",
       "  <thead>\n",
       "    <tr style=\"text-align: right;\">\n",
       "      <th></th>\n",
       "      <th>mark</th>\n",
       "      <th>time</th>\n",
       "    </tr>\n",
       "  </thead>\n",
       "  <tbody>\n",
       "    <tr>\n",
       "      <th>0</th>\n",
       "      <td>21</td>\n",
       "      <td>30</td>\n",
       "    </tr>\n",
       "    <tr>\n",
       "      <th>1</th>\n",
       "      <td>21</td>\n",
       "      <td>45</td>\n",
       "    </tr>\n",
       "    <tr>\n",
       "      <th>2</th>\n",
       "      <td>15</td>\n",
       "      <td>56</td>\n",
       "    </tr>\n",
       "    <tr>\n",
       "      <th>3</th>\n",
       "      <td>13</td>\n",
       "      <td>56</td>\n",
       "    </tr>\n",
       "    <tr>\n",
       "      <th>4</th>\n",
       "      <td>21</td>\n",
       "      <td>57</td>\n",
       "    </tr>\n",
       "  </tbody>\n",
       "</table>\n",
       "</div>"
      ],
      "text/plain": [
       "   mark  time\n",
       "0    21    30\n",
       "1    21    45\n",
       "2    15    56\n",
       "3    13    56\n",
       "4    21    57"
      ]
     },
     "execution_count": 3,
     "metadata": {},
     "output_type": "execute_result"
    }
   ],
   "source": [
    "df = pd.read_csv(\"example_data.csv\", header=None)\n",
    "df.columns = [\"mark\", \"time\"]\n",
    "df.head()"
   ]
  },
  {
   "cell_type": "code",
   "execution_count": 4,
   "metadata": {},
   "outputs": [
    {
     "data": {
      "text/plain": [
       "      fun: 58565.782230872646\n",
       " hess_inv: <3x3 LbfgsInvHessProduct with dtype=float64>\n",
       "      jac: array([ 1.17151861e-01,  3.52183724e-06, -1.23748870e-03])\n",
       "  message: 'CONVERGENCE: REL_REDUCTION_OF_F_<=_FACTR*EPSMCH'\n",
       "     nfev: 45\n",
       "      nit: 26\n",
       "   status: 0\n",
       "  success: True\n",
       "        x: array([4.14215929e-04, 5.76062493e-01, 6.36221323e-03])"
      ]
     },
     "execution_count": 4,
     "metadata": {},
     "output_type": "execute_result"
    }
   ],
   "source": [
    "# take all mark 21 and fit a univariate exp HP\n",
    "td = np.array(df.loc[df.mark == 21, :].get(\"time\")).astype(np.float64)\n",
    "\n",
    "proc = UVHP()\n",
    "proc.fit(td)"
   ]
  },
  {
   "cell_type": "code",
   "execution_count": 5,
   "metadata": {},
   "outputs": [
    {
     "name": "stdout",
     "output_type": "stream",
     "text": [
      "8004.541750442213\n",
      "8003\n"
     ]
    }
   ],
   "source": [
    "# verify that the unconditional mean makes sense\n",
    "mu, alpha, theta = proc.get_params()\n",
    "\n",
    "N_approx = mu * td[-1] / (1 - alpha)\n",
    "\n",
    "print(N_approx)\n",
    "print(len(td))"
   ]
  },
  {
   "cell_type": "code",
   "execution_count": 6,
   "metadata": {},
   "outputs": [
    {
     "name": "stdout",
     "output_type": "stream",
     "text": [
      "CPU times: user 9.97 s, sys: 88.7 ms, total: 10.1 s\n",
      "Wall time: 2.64 s\n"
     ]
    }
   ],
   "source": [
    "%%time\n",
    "# take unconditioned samples from this HP, and estimate the distribution of \n",
    "# number of occurrences in a ten second period\n",
    "\n",
    "counts = []\n",
    "for j in range(100000):\n",
    "    n = len(proc.sample(T=10000))  # time in millis\n",
    "    counts.append(n)"
   ]
  },
  {
   "cell_type": "code",
   "execution_count": 7,
   "metadata": {},
   "outputs": [
    {
     "data": {
      "image/png": "[encoded data removed]",
      "text/plain": [
       "<matplotlib.figure.Figure at 0x7f6a4fc4e8d0>"
      ]
     },
     "metadata": {},
     "output_type": "display_data"
    }
   ],
   "source": [
    "plt.title(\"Number of Occurrences in 10secs\")\n",
    "plt.hist(counts, bins=30)\n",
    "plt.show()"
   ]
  },
  {
   "cell_type": "markdown",
   "metadata": {},
   "source": [
    "## Example 2: Simulated Data\n",
    "\n",
    "We simulate HPs and try to fit their parameters."
   ]
  },
  {
   "cell_type": "code",
   "execution_count": 21,
   "metadata": {},
   "outputs": [],
   "source": [
    "param_pairs = []\n",
    "for j in range(100):\n",
    "    # priors\n",
    "    pars = np.random.gamma(3.), np.random.rand() * .3, 1 / np.random.gamma(1.)\n",
    "#     print j\n",
    "    hp = UVHP()\n",
    "    hp.set_params(*pars)\n",
    "    smp = hp.sample(100000)\n",
    "    hp2 = UVHP()\n",
    "    hp2.fit(smp)\n",
    "    \n",
    "    param_pairs.append(hp.get_params() + hp2.get_params())"
   ]
  },
  {
   "cell_type": "code",
   "execution_count": 45,
   "metadata": {},
   "outputs": [
    {
     "data": {
      "text/plain": [
       "[]"
      ]
     },
     "execution_count": 45,
     "metadata": {},
     "output_type": "execute_result"
    },
    {
     "data": {
      "image/png": "[encoded data removed]",
      "text/plain": [
       "<matplotlib.figure.Figure at 0x7f6a4af9fb10>"
      ]
     },
     "metadata": {},
     "output_type": "display_data"
    }
   ],
   "source": [
    "Z = np.array(param_pairs)\n",
    "\n",
    "f, ax = plt.subplots(1, 3, figsize=(15,5))\n",
    "f.suptitle(\"Fitted vs Actual Parameters\")\n",
    "for k in range(3):\n",
    "    ax[k].plot(Z[:, k], Z[:, k+3], \"k.\")\n",
    "    ax[k].set_title([\"mu\", \"alpha\", \"theta\"][k])\n",
    "\n",
    "ax[2].loglog()\n"
   ]
  },
  {
   "cell_type": "code",
   "execution_count": 44,
   "metadata": {},
   "outputs": [
    {
     "name": "stdout",
     "output_type": "stream",
     "text": [
      "           0         1           2          3         4           5\n",
      "31  3.689706  0.230092  368.904952  40.976832  0.357055  263.923984\n"
     ]
    }
   ],
   "source": [
    "# check the outlier\n",
    "\n",
    "df_pars = pd.DataFrame(Z)\n",
    "\n",
    "print df_pars[df_pars[3] > 30]  # very high theta!"
   ]
  }
 ],
 "metadata": {
  "kernelspec": {
   "display_name": "Python 2",
   "language": "python",
   "name": "python2"
  },
  "language_info": {
   "codemirror_mode": {
    "name": "ipython",
    "version": 2
   },
   "file_extension": ".py",
   "mimetype": "text/x-python",
   "name": "python",
   "nbconvert_exporter": "python",
   "pygments_lexer": "ipython2",
   "version": "2.7.14"
  }
 },
 "nbformat": 4,
 "nbformat_minor": 2
}
