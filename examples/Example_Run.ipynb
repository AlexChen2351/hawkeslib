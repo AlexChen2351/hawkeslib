{
 "cells": [
  {
   "cell_type": "markdown",
   "metadata": {},
   "source": [
    "## Welcome to FastHawkes\n",
    "\n",
    "In this brief introduction, we provide an example for the use of the code."
   ]
  },
  {
   "cell_type": "code",
   "execution_count": 1,
   "metadata": {
    "collapsed": true
   },
   "outputs": [],
   "source": [
    "import sys\n",
    "sys.path.append(\"/home/caner/code/hawkes_bound\")"
   ]
  },
  {
   "cell_type": "code",
   "execution_count": 2,
   "metadata": {},
   "outputs": [],
   "source": [
    "%matplotlib inline\n",
    "import numpy as np\n",
    "from fasthawkes.em import hawkes_em, hawkes_perplexity\n",
    "from matplotlib import pyplot as plt"
   ]
  },
  {
   "cell_type": "markdown",
   "metadata": {},
   "source": [
    "First, let's see how the data is formatted. The CSV data should compose of two integer columns: corresponding to the 'mark' of the event and its timestamp. Timestamps should be in sorted order and based off of 0. Marks should range from 0 to the maximum mark, with no empty marks in between. The file should have no headers:"
   ]
  },
  {
   "cell_type": "code",
   "execution_count": 3,
   "metadata": {},
   "outputs": [
    {
     "name": "stdout",
     "output_type": "stream",
     "text": [
      "21,30\r\n",
      "21,45\r\n",
      "15,56\r\n",
      "13,56\r\n",
      "21,57\r\n",
      "9,59\r\n",
      "13,67\r\n",
      "15,67\r\n",
      "9,70\r\n",
      "13,79\r\n",
      "21,82\r\n",
      "10,87\r\n",
      "13,91\r\n",
      "21,95\r\n",
      "9,95\r\n"
     ]
    }
   ],
   "source": [
    "!head -n15 example_data.csv"
   ]
  },
  {
   "cell_type": "markdown",
   "metadata": {},
   "source": [
    "Maximum likelihood parameter estimation is performed with `hawkes_em`."
   ]
  },
  {
   "cell_type": "code",
   "execution_count": 4,
   "metadata": {},
   "outputs": [
    {
     "name": "stdout",
     "output_type": "stream",
     "text": [
      "\n",
      "    Function implementing the E-M algorithm for bounded delay Hawkes processes.\n",
      "    The function accepts the filename where formatted CSV data is available,\n",
      "    returns and calculates the parameter vectors lambda, Phi and beta.\n",
      "\n",
      "    Optionally, starting vectors can be provided.\n",
      "\n",
      "    The function supports multithreading for significantly faster computation. Furthermore,\n",
      "    compute-intensive portions of the E-step are compiled to pure C.\n",
      "\n",
      "    :param data_filename: full absolute path to a data file. Data should be formatted as\n",
      "        a CSV file of two items: the 'mark' of the event, and the timestamp of the event.\n",
      "        Both items should be integers. Timestamps are assumed to start from 0. The CSV file\n",
      "        should have no headers.\n",
      "    :param tmax: the maximum lookback period, or the delay bound for the Hawkes model\n",
      "    :param maxiter: maximum number of EM iterations allowed\n",
      "    :param n_threads: number of threads to compute with\n",
      "    :param lda0: optional, initial value for the lambda parameter\n",
      "    :param Phi0: optional, initial value for the Phi parameter\n",
      "    :param beta0: optional, initial value for the beta parameter\n",
      "\n",
      "    :returns: Learned parameters. A tuple, (lambda, Phi, beta) all numpy ndarrays of suitable dimension\n",
      "    \n"
     ]
    }
   ],
   "source": [
    "print hawkes_em.__doc__"
   ]
  },
  {
   "cell_type": "code",
   "execution_count": 5,
   "metadata": {},
   "outputs": [
    {
     "name": "stdout",
     "output_type": "stream",
     "text": [
      "Retrieved data (N, maxcode): 99999 21\n",
      "-384737.995914\n",
      "-321813.276246\n",
      "-293329.596575\n",
      "-279696.005631\n",
      "-272971.560507\n",
      "-269447.903597\n",
      "-267476.109378\n",
      "-266306.469671\n",
      "-265577.77394\n",
      "-265105.054846\n"
     ]
    }
   ],
   "source": [
    "l, P, b = hawkes_em(\"example_data.csv\", tmax=1000, maxiter=10, n_threads=3)"
   ]
  },
  {
   "cell_type": "markdown",
   "metadata": {},
   "source": [
    "Perplexity can be calculated with `hawkes_perplexity`."
   ]
  },
  {
   "cell_type": "code",
   "execution_count": 6,
   "metadata": {},
   "outputs": [
    {
     "name": "stdout",
     "output_type": "stream",
     "text": [
      "\n",
      "    Function implementing the E-M algorithm for bounded delay Hawkes processes.\n",
      "    The function accepts the filename where formatted CSV data is available,\n",
      "    returns and calculates the parameter vectors lambda, Phi and beta.\n",
      "\n",
      "    Optionally, starting vectors can be provided.\n",
      "\n",
      "    Supports multithreading as the perplexity calculation can be computationally\n",
      "    intensive.\n",
      "\n",
      "    :param data_filename: full absolute path to a data file. Data should be formatted as\n",
      "        a CSV file of two items: the 'mark' of the event, and the timestamp of the event.\n",
      "        Both items should be integers. Timestamps are assumed to start from 0. The CSV file\n",
      "        should have no headers.\n",
      "    :param tmax: the maximum lookback period, or the delay bound for the Hawkes model\n",
      "    :param lda: the lambda parameter\n",
      "    :param Phi: Phi parameter\n",
      "    :param beta: beta parameter\n",
      "\n",
      "    :returns: double, the predictive perplexity of the data set under lambda, Phi, beta provided\n",
      "    \n"
     ]
    }
   ],
   "source": [
    "print hawkes_perplexity.__doc__"
   ]
  },
  {
   "cell_type": "code",
   "execution_count": 7,
   "metadata": {},
   "outputs": [
    {
     "name": "stdout",
     "output_type": "stream",
     "text": [
      "Retrieved data (N, maxcode): 99999 21\n"
     ]
    },
    {
     "data": {
      "text/plain": [
       "0.017086577126281283"
      ]
     },
     "execution_count": 7,
     "metadata": {},
     "output_type": "execute_result"
    }
   ],
   "source": [
    "hawkes_perplexity(\"example_data.csv\",1000, l, P, b)"
   ]
  },
  {
   "cell_type": "code",
   "execution_count": 9,
   "metadata": {},
   "outputs": [
    {
     "data": {
      "text/plain": [
       "<matplotlib.image.AxesImage at 0x7ff4a64a6d10>"
      ]
     },
     "execution_count": 9,
     "metadata": {},
     "output_type": "execute_result"
    },
    {
     "data": {
      "image/png": "[encoded data removed]",
      "text/plain": [
       "<matplotlib.figure.Figure at 0x7ff4a71eda10>"
      ]
     },
     "metadata": {},
     "output_type": "display_data"
    }
   ],
   "source": [
    "plt.imshow(P)"
   ]
  },
  {
   "cell_type": "code",
   "execution_count": null,
   "metadata": {
    "collapsed": true
   },
   "outputs": [],
   "source": []
  }
 ],
 "metadata": {
  "kernelspec": {
   "display_name": "Python 2",
   "language": "python",
   "name": "python2"
  },
  "language_info": {
   "codemirror_mode": {
    "name": "ipython",
    "version": 2
   },
   "file_extension": ".py",
   "mimetype": "text/x-python",
   "name": "python",
   "nbconvert_exporter": "python",
   "pygments_lexer": "ipython2",
   "version": "2.7.13"
  }
 },
 "nbformat": 4,
 "nbformat_minor": 2
}
