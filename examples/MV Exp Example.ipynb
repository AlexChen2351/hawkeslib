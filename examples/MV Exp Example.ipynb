{
 "cells": [
  {
   "cell_type": "code",
   "execution_count": 1,
   "metadata": {
    "collapsed": true
   },
   "outputs": [],
   "source": [
    "%matplotlib inline\n",
    "\n",
    "import sys\n",
    "sys.path.append(\"/home/caner/code/hawkes_bound\")\n",
    "\n",
    "import numpy as np\n",
    "# from fasthawkes.em import hawkes_em, hawkes_perplexity\n",
    "from fasthawkes.model.mv_exp import MultivariateExpHawkesProcess\n",
    "from matplotlib import pyplot as plt\n",
    "import pandas as pd"
   ]
  },
  {
   "cell_type": "code",
   "execution_count": 2,
   "metadata": {},
   "outputs": [
    {
     "name": "stdout",
     "output_type": "stream",
     "text": [
      "21,30\r\n",
      "21,45\r\n",
      "15,56\r\n",
      "13,56\r\n",
      "21,57\r\n",
      "9,59\r\n",
      "13,67\r\n",
      "15,67\r\n",
      "9,70\r\n",
      "13,79\r\n",
      "21,82\r\n",
      "10,87\r\n",
      "13,91\r\n",
      "21,95\r\n",
      "9,95\r\n"
     ]
    }
   ],
   "source": [
    "!head -n15 example_data.csv"
   ]
  },
  {
   "cell_type": "code",
   "execution_count": 3,
   "metadata": {
    "collapsed": true
   },
   "outputs": [],
   "source": [
    "df = pd.read_csv(\"example_data.csv\", header=None)\n",
    "dfs = df.iloc[np.array(df[0]) <= 3, :]\n",
    "c, t = map(np.array, (dfs.iloc[:,0], dfs.iloc[:,1]))"
   ]
  },
  {
   "cell_type": "code",
   "execution_count": 4,
   "metadata": {
    "scrolled": true
   },
   "outputs": [
    {
     "name": "stdout",
     "output_type": "stream",
     "text": [
      "(24,)\n",
      "[  4.19004883e-04   4.08537383e-04   2.91972114e-04   2.94411144e-04\n",
      "   2.81637372e-01   1.55258356e-01   3.60604681e-01   1.00707842e-01\n",
      "   2.55207913e-01   8.55744815e-02   3.83140899e-02   5.99840462e-02\n",
      "   1.52203400e-02   2.30568484e-01   7.92082021e-02   1.51596960e-02\n",
      "   3.86112936e-02   9.28894513e-03   2.72408561e-01   6.80127427e-02\n",
      "   2.74616266e-03   4.74028661e-02   6.07504756e-02   2.84655956e-01]\n"
     ]
    }
   ],
   "source": [
    "proc = MultivariateExpHawkesProcess()\n",
    "res = proc.fit(t.astype(np.float64), c)"
   ]
  },
  {
   "cell_type": "code",
   "execution_count": 5,
   "metadata": {
    "collapsed": true
   },
   "outputs": [],
   "source": [
    "A, b, l = proc.get_params()"
   ]
  },
  {
   "cell_type": "code",
   "execution_count": 6,
   "metadata": {},
   "outputs": [
    {
     "data": {
      "text/plain": [
       "0.0005028058591333836"
      ]
     },
     "execution_count": 6,
     "metadata": {},
     "output_type": "execute_result"
    }
   ],
   "source": [
    "t_0 = t[c == 0]\n",
    "len(t_0) / float(t_0[-1])"
   ]
  },
  {
   "cell_type": "code",
   "execution_count": 9,
   "metadata": {},
   "outputs": [
    {
     "data": {
      "text/plain": [
       "      fun: 114789.63435229361\n",
       " hess_inv: <24x24 LbfgsInvHessProduct with dtype=float64>\n",
       "      jac: array([  8.87010290e+05,   1.02473331e+06,   1.06499041e+06,\n",
       "         2.14433893e+06,   1.72235013e+03,   1.48941763e+03,\n",
       "         1.26314990e+03,   1.26418308e+03,   2.87720468e+03,\n",
       "         2.41592352e+03,  -6.00644853e+02,   1.46217644e+02,\n",
       "         1.61094067e+03,   2.46049603e+03,   1.27150270e+03,\n",
       "         3.03756678e+02,   1.23734935e+02,   1.75733294e+03,\n",
       "         1.84924284e+03,   1.17062882e+03,   3.16496880e+03,\n",
       "        -4.62139724e+02,   1.31990237e+03,   1.45373633e+03])\n",
       "  message: 'CONVERGENCE: REL_REDUCTION_OF_F_<=_FACTR*EPSMCH'\n",
       "     nfev: 125\n",
       "      nit: 2\n",
       "   status: 0\n",
       "  success: True\n",
       "        x: array([  4.18999755e-04,   4.08532383e-04,   2.91968542e-04,\n",
       "         2.94407541e-04,   2.81633926e-01,   1.55256456e-01,\n",
       "         3.60600268e-01,   1.00706609e-01,   2.55204790e-01,\n",
       "         8.55734343e-02,   8.36198966e-02,   6.07518778e-02,\n",
       "         2.29613366e-02,   2.30565662e-01,   7.92072328e-02,\n",
       "         1.61205300e-01,   1.14836213e-01,   6.53413677e-02,\n",
       "         2.72405228e-01,   6.80119105e-02,   2.34669961e-01,\n",
       "         9.89412505e-02,   6.07497322e-02,   2.84652473e-01])"
      ]
     },
     "execution_count": 9,
     "metadata": {},
     "output_type": "execute_result"
    }
   ],
   "source": [
    "res"
   ]
  },
  {
   "cell_type": "code",
   "execution_count": 8,
   "metadata": {},
   "outputs": [
    {
     "data": {
      "text/plain": [
       "<matplotlib.colorbar.Colorbar at 0x7f8d75638a50>"
      ]
     },
     "execution_count": 8,
     "metadata": {},
     "output_type": "execute_result"
    },
    {
     "data": {
      "image/png": "[encoded data removed]",
      "text/plain": [
       "<matplotlib.figure.Figure at 0x7f8d78f6a090>"
      ]
     },
     "metadata": {},
     "output_type": "display_data"
    }
   ],
   "source": [
    "plt.imshow(A)\n",
    "plt.colorbar()"
   ]
  },
  {
   "cell_type": "code",
   "execution_count": null,
   "metadata": {
    "collapsed": true
   },
   "outputs": [],
   "source": []
  }
 ],
 "metadata": {
  "kernelspec": {
   "display_name": "Python 2",
   "language": "python",
   "name": "python2"
  },
  "language_info": {
   "codemirror_mode": {
    "name": "ipython",
    "version": 2
   },
   "file_extension": ".py",
   "mimetype": "text/x-python",
   "name": "python",
   "nbconvert_exporter": "python",
   "pygments_lexer": "ipython2",
   "version": "2.7.13"
  }
 },
 "nbformat": 4,
 "nbformat_minor": 2
}
