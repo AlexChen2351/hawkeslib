{
 "cells": [
  {
   "cell_type": "markdown",
   "metadata": {},
   "source": [
    "# Multivariate Hawkes Process with Exponential Delay\n",
    "\n",
    "In this example, we fit multivariate Hawkes (self-exciting) processes (HP). Concretely, a \"multivariate\" process refers to one which occurrences assume a discrete mark from a finite set. HPs provide one way to model the \"mutual excitation\" behavior between such occurrences. \n",
    "\n",
    "Concretely, we will use a multivariate HP with exponential delays. That is, the process of mark $k \\in \\{0, 1, \\dots, K\\}$ will be determined by the conditional intensity function\n",
    "\n",
    "$$\n",
    "\\lambda^*_k(t) = \\mu_k + \\sum_{t_i < t} A(c_i, k) \\theta \\exp(-\\theta (t - t_i)),\n",
    "$$\n",
    "\n",
    "where $c_i \\in \\{0, 1, \\dots, K\\}$.\n",
    "\n",
    "In the sequel, we first fit parameters $\\mu, A, \\theta$ to a dataset of currency price jumps. We then sample from a fixed process and explore how well the EM algorithm fits synthetic data."
   ]
  },
  {
   "cell_type": "code",
   "execution_count": 1,
   "metadata": {},
   "outputs": [],
   "source": [
    "%matplotlib inline\n",
    "import numpy as np\n",
    "import pandas as pd\n",
    "from matplotlib import pyplot as plt\n",
    "from fasthawkes.model.mv_exp import MultivariateExpHawkesProcess as MVHP"
   ]
  },
  {
   "cell_type": "markdown",
   "metadata": {},
   "source": [
    "## Example 1: FX Price Jumps\n",
    "\n",
    "We explore the mutual excitation between price up and down events of several major currency pairs in an interbank exchange."
   ]
  },
  {
   "cell_type": "code",
   "execution_count": 19,
   "metadata": {},
   "outputs": [],
   "source": [
    "df = pd.read_csv(\"example_data.csv\", header=None)\n",
    "df.columns = [\"mark\", \"time\"]\n",
    "df = df.loc[df.mark.isin(range(8)), :]"
   ]
  },
  {
   "cell_type": "code",
   "execution_count": 20,
   "metadata": {},
   "outputs": [
    {
     "data": {
      "text/plain": [
       "-206208.08341292467"
      ]
     },
     "execution_count": 20,
     "metadata": {},
     "output_type": "execute_result"
    }
   ],
   "source": [
    "t = np.array(df.time)\n",
    "c = np.array(df.mark)\n",
    "\n",
    "mv = MVHP()\n",
    "mv.fit(t, c)"
   ]
  },
  {
   "cell_type": "code",
   "execution_count": 29,
   "metadata": {},
   "outputs": [
    {
     "data": {
      "text/plain": [
       "<matplotlib.text.Text at 0x7ff591bf74d0>"
      ]
     },
     "execution_count": 29,
     "metadata": {},
     "output_type": "execute_result"
    },
    {
     "data": {
      "image/png": "[encoded data removed]",
      "text/plain": [
       "<matplotlib.figure.Figure at 0x7ff591cbac10>"
      ]
     },
     "metadata": {},
     "output_type": "display_data"
    }
   ],
   "source": [
    "f, ax = plt.subplots(1, 2, figsize=(10, 5))\n",
    "ax[0].stem(mv._mu)\n",
    "ax[0].set_title(\"$\\mu_k$\")\n",
    "ax[1].imshow(mv._A, cmap=\"Reds\")\n",
    "ax[1].set_title(\"$A$\")"
   ]
  },
  {
   "cell_type": "markdown",
   "metadata": {},
   "source": [
    "## Example 2: Toy Data"
   ]
  },
  {
   "cell_type": "code",
   "execution_count": 2,
   "metadata": {},
   "outputs": [],
   "source": [
    "K = 4\n",
    "param_pairs = []\n",
    "for j in range(10):\n",
    "#     print j\n",
    "    mu = np.random.rand(K)\n",
    "    A = (np.random.rand() * .4 + .1) * np.eye(K) + np.random.rand(K,K) * .1\n",
    "    theta = .5 + np.random.rand()\n",
    "    \n",
    "    hp = MVHP()\n",
    "    hp.set_params(mu, A, theta)\n",
    "    t, c = hp.sample(10000)\n",
    "    \n",
    "    hp2 = MVHP()\n",
    "    hp2.fit(t, c, reltol=1e-8)\n",
    "    \n",
    "    comb_pars = hp.get_params() + hp2.get_params()\n",
    "    param_pairs.append(comb_pars)"
   ]
  },
  {
   "cell_type": "code",
   "execution_count": 4,
   "metadata": {},
   "outputs": [
    {
     "data": {
      "text/plain": [
       "<matplotlib.text.Text at 0x7fbd78f7e450>"
      ]
     },
     "execution_count": 4,
     "metadata": {},
     "output_type": "execute_result"
    },
    {
     "data": {
      "image/png": "[encoded data removed]",
      "text/plain": [
       "<matplotlib.figure.Figure at 0x7fbd79102b10>"
      ]
     },
     "metadata": {},
     "output_type": "display_data"
    }
   ],
   "source": [
    "mu0s = np.array([[x[0][0] for x in param_pairs], [x[3][0] for x in param_pairs]])\n",
    "A00s = np.array([[x[1][0,0] for x in param_pairs], [x[4][0,0] for x in param_pairs]])\n",
    "ths = np.array([[x[2] for x in param_pairs], [x[2] for x in param_pairs]])\n",
    "\n",
    "f, ax = plt.subplots(1, 3, figsize=(15,5))\n",
    "f.suptitle(\"Fitted vs Actual Parameters\")\n",
    "\n",
    "ax[0].plot(mu0s[0, :], mu0s[1, :], \"bo\")\n",
    "ax[0].set_title(\"mu[0]\")\n",
    "ax[1].plot(A00s[0, :], A00s[1, :], \"bo\")\n",
    "ax[1].set_title(\"A[0,0]\")\n",
    "ax[2].plot(ths[0, :], ths[1, :], \"bo\")\n",
    "ax[2].set_title(\"theta\")"
   ]
  }
 ],
 "metadata": {
  "kernelspec": {
   "display_name": "Python 2",
   "language": "python",
   "name": "python2"
  },
  "language_info": {
   "codemirror_mode": {
    "name": "ipython",
    "version": 2
   },
   "file_extension": ".py",
   "mimetype": "text/x-python",
   "name": "python",
   "nbconvert_exporter": "python",
   "pygments_lexer": "ipython2",
   "version": "2.7.14"
  }
 },
 "nbformat": 4,
 "nbformat_minor": 2
}
