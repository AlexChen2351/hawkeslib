{
 "cells": [
  {
   "cell_type": "markdown",
   "metadata": {},
   "source": [
    "## Drawing from a Hawkes Process"
   ]
  },
  {
   "cell_type": "code",
   "execution_count": 28,
   "metadata": {
    "collapsed": true
   },
   "outputs": [],
   "source": [
    "%matplotlib inline\n",
    "import numpy as np\n",
    "import scipy as sp\n",
    "from matplotlib import pyplot as plt"
   ]
  },
  {
   "cell_type": "code",
   "execution_count": 42,
   "metadata": {
    "collapsed": true
   },
   "outputs": [],
   "source": [
    "def hawkes_draw(T, mu, alpha, beta):\n",
    "    \"\"\"\n",
    "    Draw from a univariate Hawkes process with\n",
    "    exponential  kernel $-\\alpha * \\exp(-\\beta * (t - t'))$\n",
    "    \"\"\"\n",
    "    if alpha >= beta:\n",
    "        raise ValueError(\"Not stationary!\")\n",
    "        \n",
    "    if np.min([mu, alpha, beta]) < 0:\n",
    "        raise ValueError(\"Parameters cannot be zero!\")\n",
    "\n",
    "    arr = []\n",
    "    s, n = 0, 0\n",
    "\n",
    "    while s < T:\n",
    "        lda_bar = mu + np.sum(alpha * np.exp(- beta * (s - np.array(arr))))\n",
    "\n",
    "        u = np.random.rand()\n",
    "        w = - np.log(u) / lda_bar\n",
    "\n",
    "        s += w\n",
    "\n",
    "        D = np.random.rand()\n",
    "        if D * lda_bar <= mu + np.sum(alpha * np.exp(- beta * (s - np.array(arr)))):\n",
    "            n += 1\n",
    "            arr.append(s)\n",
    "\n",
    "    if arr[-1] > T:\n",
    "        arr = arr[:-1]\n",
    "        \n",
    "    return arr\n"
   ]
  },
  {
   "cell_type": "markdown",
   "metadata": {},
   "source": [
    "Looks clustered..."
   ]
  },
  {
   "cell_type": "code",
   "execution_count": 41,
   "metadata": {},
   "outputs": [
    {
     "data": {
      "text/plain": [
       "[<matplotlib.lines.Line2D at 0x7f855130be50>]"
      ]
     },
     "execution_count": 41,
     "metadata": {},
     "output_type": "execute_result"
    },
    {
     "data": {
      "image/png": "[encoded data removed]",
      "text/plain": [
       "<matplotlib.figure.Figure at 0x7f8551343b10>"
      ]
     },
     "metadata": {},
     "output_type": "display_data"
    }
   ],
   "source": [
    "arr = hawkes_draw(1000, .1, .3, .5)\n",
    "\n",
    "plt.figure(figsize=(20,5))\n",
    "plt.plot(np.array(arr), np.ones(len(arr)), 'k.')"
   ]
  }
 ],
 "metadata": {
  "kernelspec": {
   "display_name": "Python 2",
   "language": "python",
   "name": "python2"
  },
  "language_info": {
   "codemirror_mode": {
    "name": "ipython",
    "version": 2
   },
   "file_extension": ".py",
   "mimetype": "text/x-python",
   "name": "python",
   "nbconvert_exporter": "python",
   "pygments_lexer": "ipython2",
   "version": "2.7.13"
  }
 },
 "nbformat": 4,
 "nbformat_minor": 2
}
